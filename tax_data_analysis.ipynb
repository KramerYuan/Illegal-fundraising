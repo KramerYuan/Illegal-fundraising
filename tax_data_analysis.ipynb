{
 "cells": [
  {
   "cell_type": "code",
   "execution_count": 1,
   "metadata": {},
   "outputs": [],
   "source": [
    "import pandas as pd "
   ]
  },
  {
   "cell_type": "code",
   "execution_count": 2,
   "metadata": {},
   "outputs": [],
   "source": [
    "tax_info = pd.read_csv(\"./train/tax_info.csv\")"
   ]
  },
  {
   "cell_type": "code",
   "execution_count": 3,
   "metadata": {},
   "outputs": [],
   "source": [
    "# 去除（29195 - 24614）条重复数据\n",
    "tax_info = tax_info.drop_duplicates()"
   ]
  },
  {
   "cell_type": "code",
   "execution_count": 4,
   "metadata": {},
   "outputs": [],
   "source": [
    "# 基本信息\n",
    "base_info = pd.read_csv(\"./train/base_info.csv\")\n",
    "\n",
    "# id + 标签\n",
    "entprise_info = pd.read_csv(\"./train/entprise_info.csv\")\n",
    "\n",
    "# id + 标签(Null) \n",
    "result = pd.read_csv(\"./entprise_evaluate.csv\")"
   ]
  },
  {
   "cell_type": "code",
   "execution_count": 5,
   "metadata": {},
   "outputs": [],
   "source": [
    "temp = pd.concat([entprise_info,result], ignore_index=True)"
   ]
  },
  {
   "cell_type": "code",
   "execution_count": 6,
   "metadata": {},
   "outputs": [],
   "source": [
    "# 将base_info和label进行连接，label为空的是测试集\n",
    "data = pd.merge(temp, base_info, on=\"id\", how=\"left\")"
   ]
  },
  {
   "cell_type": "code",
   "execution_count": 7,
   "metadata": {},
   "outputs": [],
   "source": [
    "# 提取tax表格中的id\n",
    "tax_feature = tax_info.id.drop_duplicates().reset_index(drop=True)\n",
    "# 将提取出来的id转换成dataframe\n",
    "tax_feature = pd.DataFrame(tax_feature)\n",
    "# 将有id的部分赋值为1\n",
    "tax_feature[\"is_tax_exist\"] = 1\n",
    "# # 连接上其余特征\n",
    "# data = pd.merge(data, tax_feature, on=\"id\", how=\"left\")\n",
    "# # 将没有tax信息的id填充为0\n",
    "# data[\"is_tax_exist\"].fillna(0,inplace=True)"
   ]
  },
  {
   "cell_type": "code",
   "execution_count": 8,
   "metadata": {},
   "outputs": [
    {
     "data": {
      "text/html": [
       "<div>\n",
       "<style scoped>\n",
       "    .dataframe tbody tr th:only-of-type {\n",
       "        vertical-align: middle;\n",
       "    }\n",
       "\n",
       "    .dataframe tbody tr th {\n",
       "        vertical-align: top;\n",
       "    }\n",
       "\n",
       "    .dataframe thead th {\n",
       "        text-align: right;\n",
       "    }\n",
       "</style>\n",
       "<table border=\"1\" class=\"dataframe\">\n",
       "  <thead>\n",
       "    <tr style=\"text-align: right;\">\n",
       "      <th></th>\n",
       "      <th>id</th>\n",
       "      <th>is_tax_exist</th>\n",
       "    </tr>\n",
       "  </thead>\n",
       "  <tbody>\n",
       "    <tr>\n",
       "      <th>0</th>\n",
       "      <td>f000950527a6feb6c2f40c9d8477e73a439dfa0897830397</td>\n",
       "      <td>1</td>\n",
       "    </tr>\n",
       "    <tr>\n",
       "      <th>1</th>\n",
       "      <td>d8071a739aa75a3b9f23966f8dae78fd226c272515b9c255</td>\n",
       "      <td>1</td>\n",
       "    </tr>\n",
       "    <tr>\n",
       "      <th>2</th>\n",
       "      <td>d8071a739aa75a3b8beaa7f2ea3a364a1bf8faefec72f871</td>\n",
       "      <td>1</td>\n",
       "    </tr>\n",
       "    <tr>\n",
       "      <th>3</th>\n",
       "      <td>f000950527a6feb6207093f8cac7a11cc2abd1763a264757</td>\n",
       "      <td>1</td>\n",
       "    </tr>\n",
       "    <tr>\n",
       "      <th>4</th>\n",
       "      <td>f000950527a6feb6f97af739bb95531db891a11df80bdb8b</td>\n",
       "      <td>1</td>\n",
       "    </tr>\n",
       "    <tr>\n",
       "      <th>...</th>\n",
       "      <td>...</td>\n",
       "      <td>...</td>\n",
       "    </tr>\n",
       "    <tr>\n",
       "      <th>803</th>\n",
       "      <td>47645761dc56bb8cf147c0f51d60cfe28fd995aaca7693d9</td>\n",
       "      <td>1</td>\n",
       "    </tr>\n",
       "    <tr>\n",
       "      <th>804</th>\n",
       "      <td>f000950527a6feb6bd25a1d6ac6f6463fa2d6e21e0d2861b</td>\n",
       "      <td>1</td>\n",
       "    </tr>\n",
       "    <tr>\n",
       "      <th>805</th>\n",
       "      <td>d8071a739aa75a3b6860158ec0cc8ba7972fb14ba37b9e0a</td>\n",
       "      <td>1</td>\n",
       "    </tr>\n",
       "    <tr>\n",
       "      <th>806</th>\n",
       "      <td>f000950527a6feb6cb8976eb56233ede461cb23103f85f32</td>\n",
       "      <td>1</td>\n",
       "    </tr>\n",
       "    <tr>\n",
       "      <th>807</th>\n",
       "      <td>d8071a739aa75a3bbb9e08ebd134ae1289f194b70cac0e95</td>\n",
       "      <td>1</td>\n",
       "    </tr>\n",
       "  </tbody>\n",
       "</table>\n",
       "<p>808 rows × 2 columns</p>\n",
       "</div>"
      ],
      "text/plain": [
       "                                                   id  is_tax_exist\n",
       "0    f000950527a6feb6c2f40c9d8477e73a439dfa0897830397             1\n",
       "1    d8071a739aa75a3b9f23966f8dae78fd226c272515b9c255             1\n",
       "2    d8071a739aa75a3b8beaa7f2ea3a364a1bf8faefec72f871             1\n",
       "3    f000950527a6feb6207093f8cac7a11cc2abd1763a264757             1\n",
       "4    f000950527a6feb6f97af739bb95531db891a11df80bdb8b             1\n",
       "..                                                ...           ...\n",
       "803  47645761dc56bb8cf147c0f51d60cfe28fd995aaca7693d9             1\n",
       "804  f000950527a6feb6bd25a1d6ac6f6463fa2d6e21e0d2861b             1\n",
       "805  d8071a739aa75a3b6860158ec0cc8ba7972fb14ba37b9e0a             1\n",
       "806  f000950527a6feb6cb8976eb56233ede461cb23103f85f32             1\n",
       "807  d8071a739aa75a3bbb9e08ebd134ae1289f194b70cac0e95             1\n",
       "\n",
       "[808 rows x 2 columns]"
      ]
     },
     "execution_count": 8,
     "metadata": {},
     "output_type": "execute_result"
    }
   ],
   "source": [
    "tax_feature"
   ]
  },
  {
   "cell_type": "code",
   "execution_count": null,
   "metadata": {},
   "outputs": [],
   "source": []
  },
  {
   "cell_type": "code",
   "execution_count": null,
   "metadata": {},
   "outputs": [],
   "source": []
  },
  {
   "cell_type": "code",
   "execution_count": null,
   "metadata": {},
   "outputs": [],
   "source": []
  },
  {
   "cell_type": "code",
   "execution_count": null,
   "metadata": {},
   "outputs": [],
   "source": []
  },
  {
   "cell_type": "code",
   "execution_count": null,
   "metadata": {},
   "outputs": [],
   "source": []
  }
 ],
 "metadata": {
  "kernelspec": {
   "display_name": "Python 3",
   "language": "python",
   "name": "python3"
  },
  "language_info": {
   "codemirror_mode": {
    "name": "ipython",
    "version": 3
   },
   "file_extension": ".py",
   "mimetype": "text/x-python",
   "name": "python",
   "nbconvert_exporter": "python",
   "pygments_lexer": "ipython3",
   "version": "3.7.6"
  }
 },
 "nbformat": 4,
 "nbformat_minor": 4
}
