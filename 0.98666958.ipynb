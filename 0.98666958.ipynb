{
 "cells": [
  {
   "cell_type": "code",
   "execution_count": 23,
   "metadata": {},
   "outputs": [],
   "source": [
    "import pandas as pd\n",
    "import xgboost as xgb\n",
    "import lightgbm as lgb\n",
    "from catboost import CatBoostRegressor\n",
    "from category_encoders import TargetEncoder \n",
    "from sklearn.model_selection import KFold\n",
    "import numpy as np\n",
    "from sklearn.metrics import accuracy_score, f1_score, roc_auc_score, log_loss\n",
    "import warnings\n",
    "warnings.filterwarnings('ignore')\n",
    "# 基本信息\n",
    "base_info = pd.read_csv(\"./train/base_info.csv\")\n",
    "\n",
    "# id + 标签\n",
    "entprise_info = pd.read_csv(\"./train/entprise_info.csv\")\n",
    "\n",
    "# id + 标签(Null) \n",
    "result = pd.read_csv(\"./entprise_evaluate.csv\")"
   ]
  },
  {
   "cell_type": "code",
   "execution_count": 24,
   "metadata": {},
   "outputs": [],
   "source": [
    "temp = pd.concat([entprise_info,result], ignore_index=True)"
   ]
  },
  {
   "cell_type": "code",
   "execution_count": 25,
   "metadata": {},
   "outputs": [],
   "source": [
    "# 将base_info和label进行连接，label为空的是测试集\n",
    "data = pd.merge(temp, base_info, on=\"id\", how=\"left\")"
   ]
  },
  {
   "cell_type": "code",
   "execution_count": 26,
   "metadata": {},
   "outputs": [],
   "source": [
    "data['opfrom'] = pd.to_datetime(data['opfrom'],format='%Y-%m-%d')\n",
    "data['opto'] = pd.to_datetime(data['opto'],format='%Y-%m-%d')\n",
    "# 构造时间特征\n",
    "data[\"time\"] = (data[\"opto\"] - data[\"opfrom\"]).dt.days"
   ]
  },
  {
   "cell_type": "code",
   "execution_count": 27,
   "metadata": {},
   "outputs": [],
   "source": [
    "# 使用目标编码对industryphy列进行训练 \n",
    "enc = TargetEncoder()  \n",
    "data[\"industryphy\"] = enc.fit_transform(data[\"industryphy\"], data[\"label\"]) "
   ]
  },
  {
   "cell_type": "code",
   "execution_count": 28,
   "metadata": {},
   "outputs": [],
   "source": [
    "# 使用目标编码对opform列进行训练 \n",
    "enc = TargetEncoder()  \n",
    "data[\"opform\"] = enc.fit_transform(data[\"opform\"], data[\"label\"]) "
   ]
  },
  {
   "cell_type": "code",
   "execution_count": 29,
   "metadata": {},
   "outputs": [],
   "source": [
    "# 使用目标编码对opform列进行训练\n",
    "enc = TargetEncoder()  \n",
    "data[\"oploc\"] = enc.fit_transform(data[\"oploc\"], data[\"label\"]) "
   ]
  },
  {
   "cell_type": "code",
   "execution_count": 30,
   "metadata": {},
   "outputs": [],
   "source": [
    "train = data[data.label.notnull()].reset_index(drop=True)"
   ]
  },
  {
   "cell_type": "code",
   "execution_count": 31,
   "metadata": {},
   "outputs": [],
   "source": [
    "test = data[data.label.isnull()].reset_index(drop=True)"
   ]
  },
  {
   "cell_type": "code",
   "execution_count": 32,
   "metadata": {},
   "outputs": [],
   "source": [
    "label = train.label"
   ]
  },
  {
   "cell_type": "code",
   "execution_count": 11,
   "metadata": {},
   "outputs": [],
   "source": [
    "train = train.drop([\"id\", \"dom\", \"opscope\", \"opfrom\", \"opto\", \"label\", \"score\"], axis=1)\n",
    "test = test.drop([\"id\", \"dom\", \"opscope\", \"opfrom\", \"opto\", \"label\", \"score\"], axis=1)"
   ]
  },
  {
   "cell_type": "code",
   "execution_count": 12,
   "metadata": {},
   "outputs": [],
   "source": [
    "def cv_model(clf, train_x, train_y, test_x, clf_name):\n",
    "    folds = 5\n",
    "    seed = 1108\n",
    "    kf = KFold(n_splits=folds, shuffle=True, random_state=seed)\n",
    "\n",
    "    train = np.zeros(train_x.shape[0])\n",
    "    test_pred = np.zeros(test_x.shape[0])\n",
    "    test = np.zeros(test_x.shape[0])\n",
    "    importance = np.zeros(train_x.columns.shape[0])\n",
    "    \n",
    "    cv_scores = []\n",
    "    feature_names = train_x.columns.tolist()\n",
    "    for i, (train_index, valid_index) in enumerate(kf.split(train_x, train_y)):\n",
    "        print('************************************ {} ************************************'.format(str(i+1)))\n",
    "        trn_x, trn_y, val_x, val_y = train_x.iloc[train_index], train_y[train_index], train_x.iloc[valid_index], train_y[valid_index]\n",
    "\n",
    "        if clf_name == \"lgb\":\n",
    "            train_matrix = clf.Dataset(trn_x, label=trn_y)\n",
    "            valid_matrix = clf.Dataset(val_x, label=val_y)\n",
    "\n",
    "            params = {\n",
    "                'boosting_type': 'gbdt',\n",
    "                'objective': 'binary',\n",
    "                'metric': 'auc',\n",
    "                'min_child_weight': 5,\n",
    "                'num_leaves': 2 ** 5,\n",
    "                'lambda_l2': 10,\n",
    "                'tree_method':'gpu_hist',\n",
    "                'feature_fraction': 0.8,\n",
    "                'bagging_fraction': 0.8,\n",
    "                'bagging_freq': 4,\n",
    "                'learning_rate': 0.05,\n",
    "                'seed': 2020,\n",
    "                'nthread': 28,\n",
    "                'n_jobs':24,\n",
    "                'silent': True,\n",
    "                'verbose': -1,\n",
    "            }\n",
    "\n",
    "            model = clf.train(params, train_matrix, 50000, valid_sets=[train_matrix, valid_matrix], verbose_eval=200,early_stopping_rounds=200)\n",
    "            \n",
    "            val_pred = model.predict(val_x, num_iteration=model.best_iteration)\n",
    "            test_pred = model.predict(test_x, num_iteration=model.best_iteration)\n",
    "            \n",
    "                \n",
    "        if clf_name == \"xgb\":\n",
    "            train_matrix = clf.DMatrix(trn_x , label=trn_y)\n",
    "            valid_matrix = clf.DMatrix(val_x , label=val_y)\n",
    "            test_matrix = clf.DMatrix(test_x)\n",
    "            \n",
    "            params = {'booster': 'gbtree',\n",
    "                      'objective': 'binary:logistic',\n",
    "                      'eval_metric': 'auc',\n",
    "                      'gamma': 1,\n",
    "                      'min_child_weight': 1.5,\n",
    "                      'max_depth': 5,\n",
    "                      'lambda': 10,\n",
    "                      'subsample': 0.7,\n",
    "                      'tree_method':'gpu_hist',\n",
    "                      'colsample_bytree': 0.7,\n",
    "                      'colsample_bylevel': 0.7,\n",
    "                      'eta': 0.04,\n",
    "                      'tree_method': 'exact',\n",
    "                      'seed': 2020,\n",
    "                      'nthread': 36,\n",
    "                      \"silent\": True,\n",
    "                      }\n",
    "            \n",
    "            watchlist = [(train_matrix, 'train'),(valid_matrix, 'eval')]\n",
    "            \n",
    "            model = clf.train(params, train_matrix, num_boost_round=50000, evals=watchlist, verbose_eval=200, early_stopping_rounds=200)\n",
    "            val_pred  = model.predict(valid_matrix, ntree_limit=model.best_ntree_limit)\n",
    "            test_pred = model.predict(test_matrix , ntree_limit=model.best_ntree_limit)\n",
    "                 \n",
    "        if clf_name == \"cat\":\n",
    "            params = {'learning_rate': 0.05, 'depth': 5, 'l2_leaf_reg': 10, 'bootstrap_type': 'Bernoulli',\n",
    "                      'od_type': 'Iter', 'od_wait': 50, 'random_seed': 11, 'allow_writing_files': False}\n",
    "            \n",
    "            model = clf(iterations=20000, **params)\n",
    "            model.fit(trn_x, trn_y, eval_set=(val_x, val_y),\n",
    "                      cat_features=[], use_best_model=True, verbose=500)\n",
    "            \n",
    "            val_pred  = model.predict(val_x)\n",
    "            test_pred = model.predict(test_x)\n",
    "            \n",
    "            \n",
    "        # importance += model.feature_importance() / 5\n",
    "        \n",
    "        train[valid_index] = val_pred\n",
    "        test += test_pred / kf.n_splits\n",
    "        cv_scores.append(roc_auc_score(val_y, val_pred))\n",
    "        \n",
    "        print(cv_scores)\n",
    "    \n",
    "    # df = pd.DataFrame({ 'column': feature_names, 'importance': importance}).sort_values(by='importance')           \n",
    "    # df.to_csv(\"./importance.csv\")\n",
    "    print(\"%s_scotrainre_list:\" % clf_name, cv_scores)\n",
    "    print(\"%s_score_mean:\" % clf_name, np.mean(cv_scores))\n",
    "    print(\"%s_score_std:\" % clf_name, np.std(cv_scores))\n",
    "    return test\n",
    "\n",
    "def lgb_model(x_train, y_train, x_test):\n",
    "    lgb_test = cv_model(lgb, x_train, y_train, x_test, \"lgb\")\n",
    "    return lgb_test\n",
    "\n",
    "def xgb_model(x_train, y_train, x_test):\n",
    "    xgb_test = cv_model(xgb, x_train, y_train, x_test, \"xgb\")\n",
    "    return xgb_test\n",
    "\n",
    "def cat_model(x_train, y_train, x_test):\n",
    "    cat_test = cv_model(CatBoostRegressor, x_train, y_train, x_test, \"cat\")\n",
    "    return cat_test"
   ]
  },
  {
   "cell_type": "code",
   "execution_count": 13,
   "metadata": {},
   "outputs": [
    {
     "name": "stdout",
     "output_type": "stream",
     "text": [
      "************************************ 1 ************************************\n",
      "[16:07:07] WARNING: C:\\Users\\Administrator\\workspace\\xgboost-win64_release_1.2.0\\src\\learner.cc:516: \n",
      "Parameters: { silent } might not be used.\n",
      "\n",
      "  This may not be accurate due to some parameters are only used in language bindings but\n",
      "  passed down to XGBoost core.  Or some parameters are not used but slip through this\n",
      "  verification. Please open an issue if you find above cases.\n",
      "\n",
      "\n",
      "[0]\ttrain-auc:0.97961\teval-auc:0.97960\n",
      "Multiple eval metrics have been passed: 'eval-auc' will be used for early stopping.\n",
      "\n",
      "Will train until eval-auc hasn't improved in 200 rounds.\n",
      "[200]\ttrain-auc:0.99553\teval-auc:0.99064\n",
      "[400]\ttrain-auc:0.99680\teval-auc:0.99042\n",
      "Stopping. Best iteration:\n",
      "[208]\ttrain-auc:0.99559\teval-auc:0.99069\n",
      "\n",
      "[0.9906932702188356]\n",
      "************************************ 2 ************************************\n",
      "[16:07:11] WARNING: C:\\Users\\Administrator\\workspace\\xgboost-win64_release_1.2.0\\src\\learner.cc:516: \n",
      "Parameters: { silent } might not be used.\n",
      "\n",
      "  This may not be accurate due to some parameters are only used in language bindings but\n",
      "  passed down to XGBoost core.  Or some parameters are not used but slip through this\n",
      "  verification. Please open an issue if you find above cases.\n",
      "\n",
      "\n",
      "[0]\ttrain-auc:0.98036\teval-auc:0.97201\n",
      "Multiple eval metrics have been passed: 'eval-auc' will be used for early stopping.\n",
      "\n",
      "Will train until eval-auc hasn't improved in 200 rounds.\n",
      "[200]\ttrain-auc:0.99523\teval-auc:0.99020\n",
      "[400]\ttrain-auc:0.99668\teval-auc:0.99035\n",
      "Stopping. Best iteration:\n",
      "[344]\ttrain-auc:0.99637\teval-auc:0.99046\n",
      "\n",
      "[0.9906932702188356, 0.9904619211746636]\n",
      "************************************ 3 ************************************\n",
      "[16:07:16] WARNING: C:\\Users\\Administrator\\workspace\\xgboost-win64_release_1.2.0\\src\\learner.cc:516: \n",
      "Parameters: { silent } might not be used.\n",
      "\n",
      "  This may not be accurate due to some parameters are only used in language bindings but\n",
      "  passed down to XGBoost core.  Or some parameters are not used but slip through this\n",
      "  verification. Please open an issue if you find above cases.\n",
      "\n",
      "\n",
      "[0]\ttrain-auc:0.97831\teval-auc:0.98211\n",
      "Multiple eval metrics have been passed: 'eval-auc' will be used for early stopping.\n",
      "\n",
      "Will train until eval-auc hasn't improved in 200 rounds.\n",
      "[200]\ttrain-auc:0.99445\teval-auc:0.99312\n",
      "[400]\ttrain-auc:0.99607\teval-auc:0.99360\n",
      "[600]\ttrain-auc:0.99679\teval-auc:0.99377\n",
      "[800]\ttrain-auc:0.99726\teval-auc:0.99371\n",
      "Stopping. Best iteration:\n",
      "[696]\ttrain-auc:0.99705\teval-auc:0.99381\n",
      "\n",
      "[0.9906932702188356, 0.9904619211746636, 0.9938069682103541]\n",
      "************************************ 4 ************************************\n",
      "[16:07:25] WARNING: C:\\Users\\Administrator\\workspace\\xgboost-win64_release_1.2.0\\src\\learner.cc:516: \n",
      "Parameters: { silent } might not be used.\n",
      "\n",
      "  This may not be accurate due to some parameters are only used in language bindings but\n",
      "  passed down to XGBoost core.  Or some parameters are not used but slip through this\n",
      "  verification. Please open an issue if you find above cases.\n",
      "\n",
      "\n",
      "[0]\ttrain-auc:0.97815\teval-auc:0.98046\n",
      "Multiple eval metrics have been passed: 'eval-auc' will be used for early stopping.\n",
      "\n",
      "Will train until eval-auc hasn't improved in 200 rounds.\n",
      "[200]\ttrain-auc:0.99490\teval-auc:0.99159\n",
      "[400]\ttrain-auc:0.99628\teval-auc:0.99233\n",
      "[600]\ttrain-auc:0.99694\teval-auc:0.99241\n",
      "[800]\ttrain-auc:0.99736\teval-auc:0.99246\n",
      "Stopping. Best iteration:\n",
      "[658]\ttrain-auc:0.99710\teval-auc:0.99250\n",
      "\n",
      "[0.9906932702188356, 0.9904619211746636, 0.9938069682103541, 0.9925054625449339]\n",
      "************************************ 5 ************************************\n",
      "[16:07:33] WARNING: C:\\Users\\Administrator\\workspace\\xgboost-win64_release_1.2.0\\src\\learner.cc:516: \n",
      "Parameters: { silent } might not be used.\n",
      "\n",
      "  This may not be accurate due to some parameters are only used in language bindings but\n",
      "  passed down to XGBoost core.  Or some parameters are not used but slip through this\n",
      "  verification. Please open an issue if you find above cases.\n",
      "\n",
      "\n",
      "[0]\ttrain-auc:0.97978\teval-auc:0.97669\n",
      "Multiple eval metrics have been passed: 'eval-auc' will be used for early stopping.\n",
      "\n",
      "Will train until eval-auc hasn't improved in 200 rounds.\n",
      "[200]\ttrain-auc:0.99486\teval-auc:0.99411\n",
      "[400]\ttrain-auc:0.99620\teval-auc:0.99433\n",
      "[600]\ttrain-auc:0.99696\teval-auc:0.99455\n",
      "[800]\ttrain-auc:0.99744\teval-auc:0.99455\n",
      "Stopping. Best iteration:\n",
      "[680]\ttrain-auc:0.99719\teval-auc:0.99459\n",
      "\n",
      "[0.9906932702188356, 0.9904619211746636, 0.9938069682103541, 0.9925054625449339, 0.9945847409130346]\n",
      "xgb_scotrainre_list: [0.9906932702188356, 0.9904619211746636, 0.9938069682103541, 0.9925054625449339, 0.9945847409130346]\n",
      "xgb_score_mean: 0.9924104726123645\n",
      "xgb_score_std: 0.0016390425529253653\n"
     ]
    }
   ],
   "source": [
    "xgb_test = xgb_model(train, label, test)"
   ]
  },
  {
   "cell_type": "code",
   "execution_count": 14,
   "metadata": {},
   "outputs": [
    {
     "name": "stdout",
     "output_type": "stream",
     "text": [
      "************************************ 1 ************************************\n",
      "[LightGBM] [Warning] Unknown parameter: tree_method\n",
      "[LightGBM] [Warning] num_threads is set with nthread=28, will be overridden by n_jobs=24. Current value: num_threads=24\n",
      "[LightGBM] [Warning] Unknown parameter: silent\n",
      "Training until validation scores don't improve for 200 rounds\n",
      "[200]\ttraining's auc: 0.99681\tvalid_1's auc: 0.988942\n",
      "Early stopping, best iteration is:\n",
      "[100]\ttraining's auc: 0.995189\tvalid_1's auc: 0.989863\n",
      "[0.9898632230684478]\n",
      "************************************ 2 ************************************\n",
      "[LightGBM] [Warning] Unknown parameter: tree_method\n",
      "[LightGBM] [Warning] num_threads is set with nthread=28, will be overridden by n_jobs=24. Current value: num_threads=24\n",
      "[LightGBM] [Warning] Unknown parameter: silent\n",
      "Training until validation scores don't improve for 200 rounds\n",
      "[200]\ttraining's auc: 0.996522\tvalid_1's auc: 0.990543\n",
      "Early stopping, best iteration is:\n",
      "[180]\ttraining's auc: 0.996333\tvalid_1's auc: 0.99064\n",
      "[0.9898632230684478, 0.9906401343396559]\n",
      "************************************ 3 ************************************\n",
      "[LightGBM] [Warning] Unknown parameter: tree_method\n",
      "[LightGBM] [Warning] num_threads is set with nthread=28, will be overridden by n_jobs=24. Current value: num_threads=24\n",
      "[LightGBM] [Warning] Unknown parameter: silent\n",
      "Training until validation scores don't improve for 200 rounds\n",
      "[200]\ttraining's auc: 0.99603\tvalid_1's auc: 0.993519\n",
      "[400]\ttraining's auc: 0.997676\tvalid_1's auc: 0.993462\n",
      "Early stopping, best iteration is:\n",
      "[337]\ttraining's auc: 0.997324\tvalid_1's auc: 0.993543\n",
      "[0.9898632230684478, 0.9906401343396559, 0.9935425606797418]\n",
      "************************************ 4 ************************************\n",
      "[LightGBM] [Warning] Unknown parameter: tree_method\n",
      "[LightGBM] [Warning] num_threads is set with nthread=28, will be overridden by n_jobs=24. Current value: num_threads=24\n",
      "[LightGBM] [Warning] Unknown parameter: silent\n",
      "Training until validation scores don't improve for 200 rounds\n",
      "[200]\ttraining's auc: 0.996212\tvalid_1's auc: 0.991888\n",
      "[400]\ttraining's auc: 0.997673\tvalid_1's auc: 0.992097\n",
      "Early stopping, best iteration is:\n",
      "[328]\ttraining's auc: 0.997391\tvalid_1's auc: 0.992294\n",
      "[0.9898632230684478, 0.9906401343396559, 0.9935425606797418, 0.9922940091926563]\n",
      "************************************ 5 ************************************\n",
      "[LightGBM] [Warning] Unknown parameter: tree_method\n",
      "[LightGBM] [Warning] num_threads is set with nthread=28, will be overridden by n_jobs=24. Current value: num_threads=24\n",
      "[LightGBM] [Warning] Unknown parameter: silent\n",
      "Training until validation scores don't improve for 200 rounds\n",
      "[200]\ttraining's auc: 0.996272\tvalid_1's auc: 0.994168\n",
      "[400]\ttraining's auc: 0.997903\tvalid_1's auc: 0.99444\n",
      "[600]\ttraining's auc: 0.998674\tvalid_1's auc: 0.994383\n",
      "Early stopping, best iteration is:\n",
      "[536]\ttraining's auc: 0.998474\tvalid_1's auc: 0.994482\n",
      "[0.9898632230684478, 0.9906401343396559, 0.9935425606797418, 0.9922940091926563, 0.9944822875708406]\n",
      "lgb_scotrainre_list: [0.9898632230684478, 0.9906401343396559, 0.9935425606797418, 0.9922940091926563, 0.9944822875708406]\n",
      "lgb_score_mean: 0.9921644429702685\n",
      "lgb_score_std: 0.001726703753250374\n"
     ]
    }
   ],
   "source": [
    "lgb_test = lgb_model(train, label, test)"
   ]
  },
  {
   "cell_type": "code",
   "execution_count": 15,
   "metadata": {},
   "outputs": [],
   "source": [
    "# cat_test = cat_model(train, label, test)"
   ]
  },
  {
   "cell_type": "code",
   "execution_count": 16,
   "metadata": {},
   "outputs": [],
   "source": [
    "# (cat_test < 0).sum()"
   ]
  },
  {
   "cell_type": "code",
   "execution_count": 17,
   "metadata": {},
   "outputs": [
    {
     "name": "stdout",
     "output_type": "stream",
     "text": [
      "925.4969567938506\n",
      "928.8016930435757\n"
     ]
    }
   ],
   "source": [
    "print(xgb_test.sum())\n",
    "print(lgb_test.sum())\n",
    "# print(cat_test.sum())"
   ]
  },
  {
   "cell_type": "code",
   "execution_count": null,
   "metadata": {},
   "outputs": [],
   "source": []
  },
  {
   "cell_type": "code",
   "execution_count": 18,
   "metadata": {},
   "outputs": [
    {
     "data": {
      "text/plain": [
       "array([0.01458281, 0.6710442 , 0.00120874, ..., 0.00175307, 0.00118242,\n",
       "       0.81647762])"
      ]
     },
     "execution_count": 18,
     "metadata": {},
     "output_type": "execute_result"
    }
   ],
   "source": [
    "rh_test = lgb_test * 0.4 + xgb_test * 0.6\n",
    "rh_test"
   ]
  },
  {
   "cell_type": "code",
   "execution_count": 36,
   "metadata": {},
   "outputs": [],
   "source": [
    "result['score'] = rh_test"
   ]
  },
  {
   "cell_type": "code",
   "execution_count": 37,
   "metadata": {},
   "outputs": [
    {
     "data": {
      "text/html": [
       "<div>\n",
       "<style scoped>\n",
       "    .dataframe tbody tr th:only-of-type {\n",
       "        vertical-align: middle;\n",
       "    }\n",
       "\n",
       "    .dataframe tbody tr th {\n",
       "        vertical-align: top;\n",
       "    }\n",
       "\n",
       "    .dataframe thead th {\n",
       "        text-align: right;\n",
       "    }\n",
       "</style>\n",
       "<table border=\"1\" class=\"dataframe\">\n",
       "  <thead>\n",
       "    <tr style=\"text-align: right;\">\n",
       "      <th></th>\n",
       "      <th>id</th>\n",
       "      <th>score</th>\n",
       "    </tr>\n",
       "  </thead>\n",
       "  <tbody>\n",
       "    <tr>\n",
       "      <th>0</th>\n",
       "      <td>82750f1b9d1223508ee329d47e27d35176c93eb9f35e9c1a</td>\n",
       "      <td>0.014583</td>\n",
       "    </tr>\n",
       "    <tr>\n",
       "      <th>1</th>\n",
       "      <td>f000950527a6feb670cc1c87c2025f3922aaa4a0206a0a33</td>\n",
       "      <td>0.671044</td>\n",
       "    </tr>\n",
       "    <tr>\n",
       "      <th>2</th>\n",
       "      <td>e9f7b28ec10e04700ef4db75a494f9a1e8e8b09555e6afa1</td>\n",
       "      <td>0.001209</td>\n",
       "    </tr>\n",
       "    <tr>\n",
       "      <th>3</th>\n",
       "      <td>beb4aaaa89e0a0ae9d77bd5d7665be6342f552f51840cf19</td>\n",
       "      <td>0.000353</td>\n",
       "    </tr>\n",
       "    <tr>\n",
       "      <th>4</th>\n",
       "      <td>e9f7b28ec10e0470ee4172cec0133b6826c34f27d3dff204</td>\n",
       "      <td>0.001669</td>\n",
       "    </tr>\n",
       "    <tr>\n",
       "      <th>...</th>\n",
       "      <td>...</td>\n",
       "      <td>...</td>\n",
       "    </tr>\n",
       "    <tr>\n",
       "      <th>9995</th>\n",
       "      <td>f000950527a6feb6b9e9c5a82689e87ee128abcf72ca7b96</td>\n",
       "      <td>0.155470</td>\n",
       "    </tr>\n",
       "    <tr>\n",
       "      <th>9996</th>\n",
       "      <td>d8071a739aa75a3bb98b032a18ae492bb8cf7ad9e0c23acd</td>\n",
       "      <td>0.036022</td>\n",
       "    </tr>\n",
       "    <tr>\n",
       "      <th>9997</th>\n",
       "      <td>f000950527a6feb63ae3783e4b82cbd8da7b3eaf43624866</td>\n",
       "      <td>0.001753</td>\n",
       "    </tr>\n",
       "    <tr>\n",
       "      <th>9998</th>\n",
       "      <td>d8071a739aa75a3bf8557cd0432d5c04e2241aee9f422220</td>\n",
       "      <td>0.001182</td>\n",
       "    </tr>\n",
       "    <tr>\n",
       "      <th>9999</th>\n",
       "      <td>f000950527a6feb6018eda95d4e4ae8cbdd85c30d3cd342a</td>\n",
       "      <td>0.816478</td>\n",
       "    </tr>\n",
       "  </tbody>\n",
       "</table>\n",
       "<p>10000 rows × 2 columns</p>\n",
       "</div>"
      ],
      "text/plain": [
       "                                                    id     score\n",
       "0     82750f1b9d1223508ee329d47e27d35176c93eb9f35e9c1a  0.014583\n",
       "1     f000950527a6feb670cc1c87c2025f3922aaa4a0206a0a33  0.671044\n",
       "2     e9f7b28ec10e04700ef4db75a494f9a1e8e8b09555e6afa1  0.001209\n",
       "3     beb4aaaa89e0a0ae9d77bd5d7665be6342f552f51840cf19  0.000353\n",
       "4     e9f7b28ec10e0470ee4172cec0133b6826c34f27d3dff204  0.001669\n",
       "...                                                ...       ...\n",
       "9995  f000950527a6feb6b9e9c5a82689e87ee128abcf72ca7b96  0.155470\n",
       "9996  d8071a739aa75a3bb98b032a18ae492bb8cf7ad9e0c23acd  0.036022\n",
       "9997  f000950527a6feb63ae3783e4b82cbd8da7b3eaf43624866  0.001753\n",
       "9998  d8071a739aa75a3bf8557cd0432d5c04e2241aee9f422220  0.001182\n",
       "9999  f000950527a6feb6018eda95d4e4ae8cbdd85c30d3cd342a  0.816478\n",
       "\n",
       "[10000 rows x 2 columns]"
      ]
     },
     "execution_count": 37,
     "metadata": {},
     "output_type": "execute_result"
    }
   ],
   "source": [
    "result"
   ]
  },
  {
   "cell_type": "code",
   "execution_count": 38,
   "metadata": {},
   "outputs": [],
   "source": [
    "result[['id','score']].to_csv('result.csv', index=False)"
   ]
  },
  {
   "cell_type": "code",
   "execution_count": null,
   "metadata": {},
   "outputs": [],
   "source": []
  }
 ],
 "metadata": {
  "kernelspec": {
   "display_name": "Python 3",
   "language": "python",
   "name": "python3"
  },
  "language_info": {
   "codemirror_mode": {
    "name": "ipython",
    "version": 3
   },
   "file_extension": ".py",
   "mimetype": "text/x-python",
   "name": "python",
   "nbconvert_exporter": "python",
   "pygments_lexer": "ipython3",
   "version": "3.7.6"
  }
 },
 "nbformat": 4,
 "nbformat_minor": 4
}
