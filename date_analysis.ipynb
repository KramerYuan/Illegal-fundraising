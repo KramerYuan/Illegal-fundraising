{
 "cells": [
  {
   "cell_type": "code",
   "execution_count": 1,
   "metadata": {},
   "outputs": [],
   "source": [
    "import pandas as pd"
   ]
  },
  {
   "cell_type": "code",
   "execution_count": 2,
   "metadata": {},
   "outputs": [
    {
     "name": "stdout",
     "output_type": "stream",
     "text": [
      "基本信息有24865条\n"
     ]
    }
   ],
   "source": [
    "# 基本信息\n",
    "base_info = pd.read_csv(\"./train/base_info.csv\")\n",
    "print(\"基本信息有\" + str(len(base_info)) + \"条\")"
   ]
  },
  {
   "cell_type": "code",
   "execution_count": 3,
   "metadata": {},
   "outputs": [
    {
     "data": {
      "text/plain": [
       "22550"
      ]
     },
     "execution_count": 3,
     "metadata": {},
     "output_type": "execute_result"
    }
   ],
   "source": [
    "# 年报基本信息\n",
    "annual_report_info = pd.read_csv(\"./train/annual_report_info.csv\")\n",
    "len(annual_report_info)"
   ]
  },
  {
   "cell_type": "code",
   "execution_count": 4,
   "metadata": {},
   "outputs": [
    {
     "data": {
      "text/plain": [
       "29195"
      ]
     },
     "execution_count": 4,
     "metadata": {},
     "output_type": "execute_result"
    }
   ],
   "source": [
    "# 纳税信息\n",
    "tax_info = pd.read_csv(\"./train/tax_info.csv\")\n",
    "len(tax_info)"
   ]
  },
  {
   "cell_type": "code",
   "execution_count": 5,
   "metadata": {},
   "outputs": [
    {
     "data": {
      "text/plain": [
       "45940"
      ]
     },
     "execution_count": 5,
     "metadata": {},
     "output_type": "execute_result"
    }
   ],
   "source": [
    "# 变更信息\n",
    "change_info = pd.read_csv(\"./train/change_info.csv\")\n",
    "len(change_info)"
   ]
  },
  {
   "cell_type": "code",
   "execution_count": 6,
   "metadata": {},
   "outputs": [
    {
     "data": {
      "text/plain": [
       "10518"
      ]
     },
     "execution_count": 6,
     "metadata": {},
     "output_type": "execute_result"
    }
   ],
   "source": [
    "# 新闻舆情信息\n",
    "news_info = pd.read_csv(\"./train/news_info.csv\")\n",
    "len(news_info)"
   ]
  },
  {
   "cell_type": "code",
   "execution_count": 7,
   "metadata": {},
   "outputs": [
    {
     "data": {
      "text/plain": [
       "1890"
      ]
     },
     "execution_count": 7,
     "metadata": {},
     "output_type": "execute_result"
    }
   ],
   "source": [
    "# 其他信息\n",
    "other_info = pd.read_csv(\"./train/other_info.csv\")\n",
    "len(other_info)"
   ]
  },
  {
   "cell_type": "code",
   "execution_count": 8,
   "metadata": {},
   "outputs": [
    {
     "data": {
      "text/plain": [
       "14865"
      ]
     },
     "execution_count": 8,
     "metadata": {},
     "output_type": "execute_result"
    }
   ],
   "source": [
    "# id + 标签\n",
    "entprise_info = pd.read_csv(\"./train/entprise_info.csv\")\n",
    "len(entprise_info)"
   ]
  },
  {
   "cell_type": "code",
   "execution_count": 9,
   "metadata": {},
   "outputs": [
    {
     "name": "stdout",
     "output_type": "stream",
     "text": [
      "有标签数据和无标签数据一共有24865条\n"
     ]
    }
   ],
   "source": [
    "# id + 标签(Null) \n",
    "entprise_evaluate = pd.read_csv(\"./entprise_evaluate.csv\")\n",
    "print(\"有标签数据和无标签数据一共有\" + str(len(entprise_evaluate)+len(entprise_info)) + \"条\")"
   ]
  },
  {
   "cell_type": "code",
   "execution_count": 10,
   "metadata": {},
   "outputs": [
    {
     "data": {
      "text/plain": [
       "5895    False\n",
       "5896     True\n",
       "5897    False\n",
       "5898     True\n",
       "5899    False\n",
       "5900     True\n",
       "5901    False\n",
       "5902     True\n",
       "dtype: bool"
      ]
     },
     "execution_count": 10,
     "metadata": {},
     "output_type": "execute_result"
    }
   ],
   "source": [
    "# 查看是否有重复值\n",
    "temp = annual_report_info[annual_report_info[\"id\"]==\"f000950527a6feb6894cbac48e230ffc6be49aeb4e018dfd\"]\n",
    "\n",
    "# 有重复数据\n",
    "temp.duplicated()"
   ]
  },
  {
   "cell_type": "code",
   "execution_count": 11,
   "metadata": {},
   "outputs": [],
   "source": [
    "# 年报基本信息进行去重操作\n",
    "annual_report_info = annual_report_info.drop_duplicates()"
   ]
  },
  {
   "cell_type": "code",
   "execution_count": 12,
   "metadata": {},
   "outputs": [],
   "source": [
    "# 去除纳税信息中的重复值\n",
    "tax_info = tax_info.drop_duplicates()"
   ]
  },
  {
   "cell_type": "code",
   "execution_count": 13,
   "metadata": {},
   "outputs": [],
   "source": [
    "# 去除变更信息种的重复值\n",
    "change_info = change_info.drop_duplicates()"
   ]
  },
  {
   "cell_type": "code",
   "execution_count": 14,
   "metadata": {},
   "outputs": [],
   "source": [
    "# 去除新闻舆情信息中的重复值\n",
    "news_info = news_info.drop_duplicates()"
   ]
  },
  {
   "cell_type": "code",
   "execution_count": 15,
   "metadata": {},
   "outputs": [
    {
     "data": {
      "text/plain": [
       "id                object\n",
       "oplocdistrict      int64\n",
       "industryphy       object\n",
       "industryco       float64\n",
       "dom               object\n",
       "opscope           object\n",
       "enttype            int64\n",
       "enttypeitem      float64\n",
       "opfrom            object\n",
       "opto              object\n",
       "state              int64\n",
       "orgid              int64\n",
       "jobid              int64\n",
       "adbusign           int64\n",
       "townsign           int64\n",
       "regtype            int64\n",
       "empnum           float64\n",
       "compform         float64\n",
       "parnum           float64\n",
       "exenum           float64\n",
       "opform            object\n",
       "ptbusscope       float64\n",
       "venind           float64\n",
       "enttypeminu      float64\n",
       "midpreindcode    float64\n",
       "protype          float64\n",
       "oploc             object\n",
       "regcap           float64\n",
       "reccap           float64\n",
       "forreccap        float64\n",
       "forregcap        float64\n",
       "congro           float64\n",
       "enttypegb          int64\n",
       "dtype: object"
      ]
     },
     "execution_count": 15,
     "metadata": {},
     "output_type": "execute_result"
    }
   ],
   "source": [
    "base_info.dtypes"
   ]
  },
  {
   "cell_type": "code",
   "execution_count": 16,
   "metadata": {},
   "outputs": [],
   "source": [
    "# 将base_info和label进行连接，label为空的是测试集\n",
    "data = pd.merge(base_info, entprise_info, on=\"id\", how=\"left\")"
   ]
  },
  {
   "cell_type": "code",
   "execution_count": 17,
   "metadata": {},
   "outputs": [],
   "source": [
    "data['opfrom'] = pd.to_datetime(data['opfrom'],format='%Y-%m-%d')\n",
    "data['opto'] = pd.to_datetime(data['opto'],format='%Y-%m-%d')\n",
    "#构造时间特征\n",
    "data['DateDT'] = data['opto'] - data[\"opfrom\"]"
   ]
  },
  {
   "cell_type": "code",
   "execution_count": 18,
   "metadata": {},
   "outputs": [
    {
     "name": "stderr",
     "output_type": "stream",
     "text": [
      "c:\\users\\yuanyi\\anaconda3\\lib\\site-packages\\category_encoders\\utils.py:21: FutureWarning: is_categorical is deprecated and will be removed in a future version.  Use is_categorical_dtype instead\n",
      "  elif pd.api.types.is_categorical(cols):\n"
     ]
    }
   ],
   "source": [
    "# 使用目标编码对industryphy列进行训练\n",
    "from category_encoders import TargetEncoder  \n",
    "enc = TargetEncoder()  \n",
    "data[\"industryphy\"] = enc.fit_transform(data[\"industryphy\"], data[\"label\"]) "
   ]
  },
  {
   "cell_type": "code",
   "execution_count": 19,
   "metadata": {},
   "outputs": [
    {
     "name": "stderr",
     "output_type": "stream",
     "text": [
      "c:\\users\\yuanyi\\anaconda3\\lib\\site-packages\\category_encoders\\utils.py:21: FutureWarning: is_categorical is deprecated and will be removed in a future version.  Use is_categorical_dtype instead\n",
      "  elif pd.api.types.is_categorical(cols):\n"
     ]
    }
   ],
   "source": [
    "# 使用目标编码对opform列进行训练\n",
    "from category_encoders import TargetEncoder  \n",
    "enc = TargetEncoder()  \n",
    "data[\"opform\"] = enc.fit_transform(data[\"opform\"], data[\"label\"]) "
   ]
  },
  {
   "cell_type": "code",
   "execution_count": 20,
   "metadata": {},
   "outputs": [
    {
     "name": "stderr",
     "output_type": "stream",
     "text": [
      "c:\\users\\yuanyi\\anaconda3\\lib\\site-packages\\category_encoders\\utils.py:21: FutureWarning: is_categorical is deprecated and will be removed in a future version.  Use is_categorical_dtype instead\n",
      "  elif pd.api.types.is_categorical(cols):\n"
     ]
    }
   ],
   "source": [
    "# 使用目标编码对opform列进行训练\n",
    "from category_encoders import TargetEncoder  \n",
    "enc = TargetEncoder()  \n",
    "data[\"oploc\"] = enc.fit_transform(data[\"oploc\"], data[\"label\"]) "
   ]
  },
  {
   "cell_type": "code",
   "execution_count": 21,
   "metadata": {},
   "outputs": [],
   "source": [
    "# 根据是否有标签分为训练集和测试集\n",
    "train = data[data.label.notnull()].reset_index(drop=True)\n",
    "test = data[data.label.isnull()].reset_index(drop=True)"
   ]
  },
  {
   "cell_type": "code",
   "execution_count": 23,
   "metadata": {},
   "outputs": [
    {
     "data": {
      "text/plain": [
       "id                object\n",
       "ANCHEYEAR        float64\n",
       "STATE            float64\n",
       "FUNDAM           float64\n",
       "MEMNUM           float64\n",
       "FARNUM           float64\n",
       "ANNNEWMEMNUM     float64\n",
       "ANNREDMEMNUM     float64\n",
       "EMPNUM           float64\n",
       "EMPNUMSIGN       float64\n",
       "BUSSTNAME         object\n",
       "COLGRANUM        float64\n",
       "RETSOLNUM        float64\n",
       "DISPERNUM        float64\n",
       "UNENUM           float64\n",
       "COLEMPLNUM       float64\n",
       "RETEMPLNUM       float64\n",
       "DISEMPLNUM       float64\n",
       "UNEEMPLNUM       float64\n",
       "WEBSITSIGN       float64\n",
       "FORINVESTSIGN    float64\n",
       "STOCKTRANSIGN    float64\n",
       "PUBSTATE         float64\n",
       "dtype: object"
      ]
     },
     "execution_count": 23,
     "metadata": {},
     "output_type": "execute_result"
    }
   ],
   "source": [
    "annual_report_info.dtypes"
   ]
  },
  {
   "cell_type": "code",
   "execution_count": 24,
   "metadata": {},
   "outputs": [
    {
     "data": {
      "text/plain": [
       "e9f7b28ec10e047005eec1a07b716d63fac8742cbdeacd46    6\n",
       "f000950527a6feb6db4240bbef2e9513873ad872c18ec85c    5\n",
       "f000950527a6feb6116bfa8bf1f2211ed7e50671f97c8590    5\n",
       "f000950527a6feb6f9313307704a8e112e246db8d331cc37    5\n",
       "f000950527a6feb658845d24e08f4361ec0f9e651166a365    5\n",
       "                                                   ..\n",
       "516ab81418ed215d5171762296da979b97e196ee7716fedc    1\n",
       "47645761dc56bb8c95853cdfd1d1b17c547399704dfefe07    1\n",
       "755db3b5c5f74eb44acd3a82b2a01aa4318082f7b1a3481d    1\n",
       "f000950527a6feb697b489fa5f300b53e8fa86aa5ac7bf47    1\n",
       "516ab81418ed215dbde381d96aa9c571609def7b37e4161a    1\n",
       "Name: id, Length: 8937, dtype: int64"
      ]
     },
     "execution_count": 24,
     "metadata": {},
     "output_type": "execute_result"
    }
   ],
   "source": [
    "annual_report_info.id.value_counts()"
   ]
  },
  {
   "cell_type": "code",
   "execution_count": 26,
   "metadata": {},
   "outputs": [
    {
     "data": {
      "text/html": [
       "<div>\n",
       "<style scoped>\n",
       "    .dataframe tbody tr th:only-of-type {\n",
       "        vertical-align: middle;\n",
       "    }\n",
       "\n",
       "    .dataframe tbody tr th {\n",
       "        vertical-align: top;\n",
       "    }\n",
       "\n",
       "    .dataframe thead th {\n",
       "        text-align: right;\n",
       "    }\n",
       "</style>\n",
       "<table border=\"1\" class=\"dataframe\">\n",
       "  <thead>\n",
       "    <tr style=\"text-align: right;\">\n",
       "      <th></th>\n",
       "      <th>id</th>\n",
       "      <th>ANCHEYEAR</th>\n",
       "      <th>STATE</th>\n",
       "      <th>FUNDAM</th>\n",
       "      <th>MEMNUM</th>\n",
       "      <th>FARNUM</th>\n",
       "      <th>ANNNEWMEMNUM</th>\n",
       "      <th>ANNREDMEMNUM</th>\n",
       "      <th>EMPNUM</th>\n",
       "      <th>EMPNUMSIGN</th>\n",
       "      <th>...</th>\n",
       "      <th>DISPERNUM</th>\n",
       "      <th>UNENUM</th>\n",
       "      <th>COLEMPLNUM</th>\n",
       "      <th>RETEMPLNUM</th>\n",
       "      <th>DISEMPLNUM</th>\n",
       "      <th>UNEEMPLNUM</th>\n",
       "      <th>WEBSITSIGN</th>\n",
       "      <th>FORINVESTSIGN</th>\n",
       "      <th>STOCKTRANSIGN</th>\n",
       "      <th>PUBSTATE</th>\n",
       "    </tr>\n",
       "  </thead>\n",
       "  <tbody>\n",
       "    <tr>\n",
       "      <th>22465</th>\n",
       "      <td>e9f7b28ec10e047005eec1a07b716d63fac8742cbdeacd46</td>\n",
       "      <td>2015.0</td>\n",
       "      <td>2.0</td>\n",
       "      <td>NaN</td>\n",
       "      <td>NaN</td>\n",
       "      <td>NaN</td>\n",
       "      <td>NaN</td>\n",
       "      <td>NaN</td>\n",
       "      <td>3.0</td>\n",
       "      <td>2.0</td>\n",
       "      <td>...</td>\n",
       "      <td>0.0</td>\n",
       "      <td>1.0</td>\n",
       "      <td>3.0</td>\n",
       "      <td>1.0</td>\n",
       "      <td>0.0</td>\n",
       "      <td>1.0</td>\n",
       "      <td>2.0</td>\n",
       "      <td>2.0</td>\n",
       "      <td>2.0</td>\n",
       "      <td>3.0</td>\n",
       "    </tr>\n",
       "    <tr>\n",
       "      <th>22466</th>\n",
       "      <td>e9f7b28ec10e047005eec1a07b716d63fac8742cbdeacd46</td>\n",
       "      <td>2016.0</td>\n",
       "      <td>2.0</td>\n",
       "      <td>NaN</td>\n",
       "      <td>NaN</td>\n",
       "      <td>NaN</td>\n",
       "      <td>NaN</td>\n",
       "      <td>NaN</td>\n",
       "      <td>5.0</td>\n",
       "      <td>1.0</td>\n",
       "      <td>...</td>\n",
       "      <td>0.0</td>\n",
       "      <td>0.0</td>\n",
       "      <td>1.0</td>\n",
       "      <td>2.0</td>\n",
       "      <td>0.0</td>\n",
       "      <td>0.0</td>\n",
       "      <td>2.0</td>\n",
       "      <td>2.0</td>\n",
       "      <td>2.0</td>\n",
       "      <td>2.0</td>\n",
       "    </tr>\n",
       "    <tr>\n",
       "      <th>22467</th>\n",
       "      <td>e9f7b28ec10e047005eec1a07b716d63fac8742cbdeacd46</td>\n",
       "      <td>2018.0</td>\n",
       "      <td>2.0</td>\n",
       "      <td>NaN</td>\n",
       "      <td>NaN</td>\n",
       "      <td>NaN</td>\n",
       "      <td>NaN</td>\n",
       "      <td>NaN</td>\n",
       "      <td>1.0</td>\n",
       "      <td>2.0</td>\n",
       "      <td>...</td>\n",
       "      <td>0.0</td>\n",
       "      <td>0.0</td>\n",
       "      <td>0.0</td>\n",
       "      <td>0.0</td>\n",
       "      <td>0.0</td>\n",
       "      <td>0.0</td>\n",
       "      <td>2.0</td>\n",
       "      <td>2.0</td>\n",
       "      <td>2.0</td>\n",
       "      <td>3.0</td>\n",
       "    </tr>\n",
       "    <tr>\n",
       "      <th>22468</th>\n",
       "      <td>e9f7b28ec10e047005eec1a07b716d63fac8742cbdeacd46</td>\n",
       "      <td>2017.0</td>\n",
       "      <td>2.0</td>\n",
       "      <td>NaN</td>\n",
       "      <td>NaN</td>\n",
       "      <td>NaN</td>\n",
       "      <td>NaN</td>\n",
       "      <td>NaN</td>\n",
       "      <td>1.0</td>\n",
       "      <td>2.0</td>\n",
       "      <td>...</td>\n",
       "      <td>0.0</td>\n",
       "      <td>0.0</td>\n",
       "      <td>0.0</td>\n",
       "      <td>0.0</td>\n",
       "      <td>0.0</td>\n",
       "      <td>0.0</td>\n",
       "      <td>2.0</td>\n",
       "      <td>2.0</td>\n",
       "      <td>2.0</td>\n",
       "      <td>3.0</td>\n",
       "    </tr>\n",
       "    <tr>\n",
       "      <th>22469</th>\n",
       "      <td>e9f7b28ec10e047005eec1a07b716d63fac8742cbdeacd46</td>\n",
       "      <td>2017.0</td>\n",
       "      <td>2.0</td>\n",
       "      <td>NaN</td>\n",
       "      <td>NaN</td>\n",
       "      <td>NaN</td>\n",
       "      <td>NaN</td>\n",
       "      <td>NaN</td>\n",
       "      <td>5.0</td>\n",
       "      <td>2.0</td>\n",
       "      <td>...</td>\n",
       "      <td>1.0</td>\n",
       "      <td>1.0</td>\n",
       "      <td>2.0</td>\n",
       "      <td>2.0</td>\n",
       "      <td>1.0</td>\n",
       "      <td>1.0</td>\n",
       "      <td>2.0</td>\n",
       "      <td>2.0</td>\n",
       "      <td>2.0</td>\n",
       "      <td>3.0</td>\n",
       "    </tr>\n",
       "    <tr>\n",
       "      <th>22470</th>\n",
       "      <td>e9f7b28ec10e047005eec1a07b716d63fac8742cbdeacd46</td>\n",
       "      <td>2018.0</td>\n",
       "      <td>2.0</td>\n",
       "      <td>NaN</td>\n",
       "      <td>NaN</td>\n",
       "      <td>NaN</td>\n",
       "      <td>NaN</td>\n",
       "      <td>NaN</td>\n",
       "      <td>3.0</td>\n",
       "      <td>2.0</td>\n",
       "      <td>...</td>\n",
       "      <td>0.0</td>\n",
       "      <td>0.0</td>\n",
       "      <td>1.0</td>\n",
       "      <td>2.0</td>\n",
       "      <td>0.0</td>\n",
       "      <td>0.0</td>\n",
       "      <td>2.0</td>\n",
       "      <td>2.0</td>\n",
       "      <td>2.0</td>\n",
       "      <td>3.0</td>\n",
       "    </tr>\n",
       "  </tbody>\n",
       "</table>\n",
       "<p>6 rows × 23 columns</p>\n",
       "</div>"
      ],
      "text/plain": [
       "                                                     id  ANCHEYEAR  STATE  \\\n",
       "22465  e9f7b28ec10e047005eec1a07b716d63fac8742cbdeacd46     2015.0    2.0   \n",
       "22466  e9f7b28ec10e047005eec1a07b716d63fac8742cbdeacd46     2016.0    2.0   \n",
       "22467  e9f7b28ec10e047005eec1a07b716d63fac8742cbdeacd46     2018.0    2.0   \n",
       "22468  e9f7b28ec10e047005eec1a07b716d63fac8742cbdeacd46     2017.0    2.0   \n",
       "22469  e9f7b28ec10e047005eec1a07b716d63fac8742cbdeacd46     2017.0    2.0   \n",
       "22470  e9f7b28ec10e047005eec1a07b716d63fac8742cbdeacd46     2018.0    2.0   \n",
       "\n",
       "       FUNDAM  MEMNUM  FARNUM  ANNNEWMEMNUM  ANNREDMEMNUM  EMPNUM  EMPNUMSIGN  \\\n",
       "22465     NaN     NaN     NaN           NaN           NaN     3.0         2.0   \n",
       "22466     NaN     NaN     NaN           NaN           NaN     5.0         1.0   \n",
       "22467     NaN     NaN     NaN           NaN           NaN     1.0         2.0   \n",
       "22468     NaN     NaN     NaN           NaN           NaN     1.0         2.0   \n",
       "22469     NaN     NaN     NaN           NaN           NaN     5.0         2.0   \n",
       "22470     NaN     NaN     NaN           NaN           NaN     3.0         2.0   \n",
       "\n",
       "       ... DISPERNUM  UNENUM  COLEMPLNUM  RETEMPLNUM  DISEMPLNUM  UNEEMPLNUM  \\\n",
       "22465  ...       0.0     1.0         3.0         1.0         0.0         1.0   \n",
       "22466  ...       0.0     0.0         1.0         2.0         0.0         0.0   \n",
       "22467  ...       0.0     0.0         0.0         0.0         0.0         0.0   \n",
       "22468  ...       0.0     0.0         0.0         0.0         0.0         0.0   \n",
       "22469  ...       1.0     1.0         2.0         2.0         1.0         1.0   \n",
       "22470  ...       0.0     0.0         1.0         2.0         0.0         0.0   \n",
       "\n",
       "       WEBSITSIGN  FORINVESTSIGN  STOCKTRANSIGN  PUBSTATE  \n",
       "22465         2.0            2.0            2.0       3.0  \n",
       "22466         2.0            2.0            2.0       2.0  \n",
       "22467         2.0            2.0            2.0       3.0  \n",
       "22468         2.0            2.0            2.0       3.0  \n",
       "22469         2.0            2.0            2.0       3.0  \n",
       "22470         2.0            2.0            2.0       3.0  \n",
       "\n",
       "[6 rows x 23 columns]"
      ]
     },
     "execution_count": 26,
     "metadata": {},
     "output_type": "execute_result"
    }
   ],
   "source": [
    "annual_report_info[annual_report_info.id == \"e9f7b28ec10e047005eec1a07b716d63fac8742cbdeacd46\"]"
   ]
  },
  {
   "cell_type": "code",
   "execution_count": 27,
   "metadata": {},
   "outputs": [
    {
     "data": {
      "text/plain": [
       "id               False\n",
       "ANCHEYEAR        False\n",
       "STATE             True\n",
       "FUNDAM            True\n",
       "MEMNUM            True\n",
       "FARNUM            True\n",
       "ANNNEWMEMNUM      True\n",
       "ANNREDMEMNUM      True\n",
       "EMPNUM            True\n",
       "EMPNUMSIGN        True\n",
       "BUSSTNAME         True\n",
       "COLGRANUM         True\n",
       "RETSOLNUM         True\n",
       "DISPERNUM         True\n",
       "UNENUM            True\n",
       "COLEMPLNUM        True\n",
       "RETEMPLNUM        True\n",
       "DISEMPLNUM        True\n",
       "UNEEMPLNUM        True\n",
       "WEBSITSIGN        True\n",
       "FORINVESTSIGN     True\n",
       "STOCKTRANSIGN     True\n",
       "PUBSTATE          True\n",
       "dtype: bool"
      ]
     },
     "execution_count": 27,
     "metadata": {},
     "output_type": "execute_result"
    }
   ],
   "source": [
    "annual_report_info.isnull().any()"
   ]
  },
  {
   "cell_type": "code",
   "execution_count": 28,
   "metadata": {},
   "outputs": [
    {
     "data": {
      "text/plain": [
       "2.0    13991\n",
       "1.0     2743\n",
       "Name: EMPNUMSIGN, dtype: int64"
      ]
     },
     "execution_count": 28,
     "metadata": {},
     "output_type": "execute_result"
    }
   ],
   "source": [
    "annual_report_info[\"EMPNUMSIGN\"].value_counts()"
   ]
  },
  {
   "cell_type": "code",
   "execution_count": 29,
   "metadata": {},
   "outputs": [
    {
     "data": {
      "text/plain": [
       "开业    16530\n",
       "歇业      707\n",
       "停业      320\n",
       "清算       21\n",
       "Name: BUSSTNAME, dtype: int64"
      ]
     },
     "execution_count": 29,
     "metadata": {},
     "output_type": "execute_result"
    }
   ],
   "source": [
    "annual_report_info[\"BUSSTNAME\"].value_counts()"
   ]
  },
  {
   "cell_type": "code",
   "execution_count": 31,
   "metadata": {},
   "outputs": [
    {
     "data": {
      "text/plain": [
       "0.0      12597\n",
       "1.0       3966\n",
       "2.0       1840\n",
       "3.0        707\n",
       "4.0        204\n",
       "5.0        309\n",
       "6.0         54\n",
       "7.0         28\n",
       "8.0         58\n",
       "9.0         16\n",
       "10.0        52\n",
       "11.0         7\n",
       "12.0        16\n",
       "13.0        12\n",
       "14.0         4\n",
       "15.0        20\n",
       "16.0        10\n",
       "17.0         1\n",
       "18.0         4\n",
       "19.0         2\n",
       "20.0        19\n",
       "21.0         1\n",
       "22.0         1\n",
       "23.0         3\n",
       "24.0         1\n",
       "25.0         2\n",
       "26.0         1\n",
       "28.0         2\n",
       "29.0         2\n",
       "30.0         3\n",
       "31.0         1\n",
       "36.0         3\n",
       "41.0         3\n",
       "50.0         1\n",
       "51.0         1\n",
       "56.0         1\n",
       "70.0         2\n",
       "77.0         1\n",
       "80.0         1\n",
       "119.0        1\n",
       "302.0        1\n",
       "408.0        1\n",
       "660.0        1\n",
       "Name: COLGRANUM, dtype: int64"
      ]
     },
     "execution_count": 31,
     "metadata": {},
     "output_type": "execute_result"
    }
   ],
   "source": [
    "# 其中高校毕业生人数经营者\n",
    "annual_report_info[\"COLGRANUM\"].value_counts().sort_index()"
   ]
  },
  {
   "cell_type": "code",
   "execution_count": 33,
   "metadata": {},
   "outputs": [
    {
     "data": {
      "text/plain": [
       "0.0      19241\n",
       "1.0        572\n",
       "2.0         98\n",
       "3.0         17\n",
       "4.0         10\n",
       "5.0          6\n",
       "6.0          2\n",
       "7.0          4\n",
       "8.0          2\n",
       "10.0         1\n",
       "11.0         1\n",
       "15.0         4\n",
       "32.0         1\n",
       "120.0        1\n",
       "Name: RETSOLNUM, dtype: int64"
      ]
     },
     "execution_count": 33,
     "metadata": {},
     "output_type": "execute_result"
    }
   ],
   "source": [
    "# 其中退役士兵人数经营者\n",
    "annual_report_info[\"RETSOLNUM\"].value_counts().sort_index()"
   ]
  },
  {
   "cell_type": "code",
   "execution_count": 34,
   "metadata": {},
   "outputs": [
    {
     "data": {
      "text/plain": [
       "0.0    19652\n",
       "1.0      283\n",
       "2.0       20\n",
       "3.0        3\n",
       "5.0        2\n",
       "Name: DISPERNUM, dtype: int64"
      ]
     },
     "execution_count": 34,
     "metadata": {},
     "output_type": "execute_result"
    }
   ],
   "source": [
    "# DISPERNUM\n",
    "annual_report_info[\"DISPERNUM\"].value_counts().sort_index()"
   ]
  },
  {
   "cell_type": "code",
   "execution_count": 35,
   "metadata": {},
   "outputs": [
    {
     "data": {
      "text/plain": [
       "0.0      17529\n",
       "1.0       1380\n",
       "2.0        566\n",
       "3.0        181\n",
       "4.0         70\n",
       "5.0         60\n",
       "6.0         33\n",
       "7.0         17\n",
       "8.0         18\n",
       "9.0          7\n",
       "10.0        21\n",
       "11.0         6\n",
       "12.0        14\n",
       "13.0         7\n",
       "14.0         2\n",
       "15.0         6\n",
       "16.0         7\n",
       "17.0         8\n",
       "18.0         4\n",
       "20.0         1\n",
       "22.0         1\n",
       "23.0         2\n",
       "24.0         1\n",
       "25.0         3\n",
       "27.0         2\n",
       "30.0         4\n",
       "32.0         1\n",
       "40.0         1\n",
       "45.0         1\n",
       "60.0         2\n",
       "85.0         1\n",
       "103.0        1\n",
       "105.0        1\n",
       "109.0        1\n",
       "205.0        1\n",
       "Name: UNENUM, dtype: int64"
      ]
     },
     "execution_count": 35,
     "metadata": {},
     "output_type": "execute_result"
    }
   ],
   "source": [
    "# 其中下岗失业人数经营者\n",
    "annual_report_info[\"UNENUM\"].value_counts().sort_index()"
   ]
  },
  {
   "cell_type": "code",
   "execution_count": 36,
   "metadata": {},
   "outputs": [
    {
     "data": {
      "text/plain": [
       "0.0     19233\n",
       "1.0       462\n",
       "2.0       126\n",
       "3.0        28\n",
       "4.0         9\n",
       "5.0        31\n",
       "6.0        10\n",
       "7.0         4\n",
       "8.0         7\n",
       "9.0         2\n",
       "10.0       10\n",
       "11.0        2\n",
       "12.0        2\n",
       "13.0        3\n",
       "14.0        2\n",
       "15.0       12\n",
       "18.0        1\n",
       "19.0        1\n",
       "20.0        3\n",
       "22.0        1\n",
       "25.0        4\n",
       "29.0        1\n",
       "30.0        2\n",
       "35.0        1\n",
       "41.0        1\n",
       "80.0        2\n",
       "Name: RETEMPLNUM, dtype: int64"
      ]
     },
     "execution_count": 36,
     "metadata": {},
     "output_type": "execute_result"
    }
   ],
   "source": [
    "# 其中高校毕业生人数雇员\n",
    "annual_report_info[\"RETEMPLNUM\"].value_counts().sort_index()"
   ]
  },
  {
   "cell_type": "code",
   "execution_count": 40,
   "metadata": {},
   "outputs": [
    {
     "data": {
      "text/plain": [
       "0.0     19558\n",
       "1.0       316\n",
       "2.0        33\n",
       "3.0        10\n",
       "4.0         8\n",
       "5.0        16\n",
       "6.0         4\n",
       "7.0         4\n",
       "8.0         4\n",
       "10.0        1\n",
       "11.0        1\n",
       "13.0        1\n",
       "15.0        1\n",
       "20.0        1\n",
       "41.0        1\n",
       "42.0        1\n",
       "Name: DISEMPLNUM, dtype: int64"
      ]
     },
     "execution_count": 40,
     "metadata": {},
     "output_type": "execute_result"
    }
   ],
   "source": [
    "# 其中残疾人人数雇员\n",
    "annual_report_info[\"DISEMPLNUM\"].value_counts().sort_index()"
   ]
  },
  {
   "cell_type": "code",
   "execution_count": 41,
   "metadata": {},
   "outputs": [
    {
     "data": {
      "text/plain": [
       "0.0      17326\n",
       "1.0        848\n",
       "2.0        553\n",
       "3.0        313\n",
       "4.0        194\n",
       "         ...  \n",
       "150.0        2\n",
       "164.0        1\n",
       "205.0        1\n",
       "279.0        1\n",
       "340.0        1\n",
       "Name: UNEEMPLNUM, Length: 72, dtype: int64"
      ]
     },
     "execution_count": 41,
     "metadata": {},
     "output_type": "execute_result"
    }
   ],
   "source": [
    "# 其中下岗失业人数雇员\n",
    "annual_report_info[\"UNEEMPLNUM\"].value_counts().sort_index()"
   ]
  },
  {
   "cell_type": "code",
   "execution_count": 42,
   "metadata": {},
   "outputs": [
    {
     "data": {
      "text/plain": [
       "1.0      821\n",
       "2.0    21594\n",
       "Name: WEBSITSIGN, dtype: int64"
      ]
     },
     "execution_count": 42,
     "metadata": {},
     "output_type": "execute_result"
    }
   ],
   "source": [
    "# 其中下岗失业人数雇员\n",
    "annual_report_info[\"WEBSITSIGN\"].value_counts().sort_index()"
   ]
  },
  {
   "cell_type": "code",
   "execution_count": 43,
   "metadata": {},
   "outputs": [
    {
     "data": {
      "text/plain": [
       "1.0      963\n",
       "2.0    15428\n",
       "Name: FORINVESTSIGN, dtype: int64"
      ]
     },
     "execution_count": 43,
     "metadata": {},
     "output_type": "execute_result"
    }
   ],
   "source": [
    "annual_report_info[\"FORINVESTSIGN\"].value_counts().sort_index()"
   ]
  },
  {
   "cell_type": "code",
   "execution_count": 44,
   "metadata": {},
   "outputs": [
    {
     "data": {
      "text/plain": [
       "5.0     8\n",
       "6.0     8\n",
       "7.0     4\n",
       "10.0    5\n",
       "11.0    4\n",
       "Name: MEMNUM, dtype: int64"
      ]
     },
     "execution_count": 44,
     "metadata": {},
     "output_type": "execute_result"
    }
   ],
   "source": [
    "annual_report_info[\"MEMNUM\"].value_counts().sort_index()"
   ]
  },
  {
   "cell_type": "code",
   "execution_count": 49,
   "metadata": {},
   "outputs": [
    {
     "data": {
      "text/plain": [
       "1.0      721\n",
       "2.0    12701\n",
       "Name: STOCKTRANSIGN, dtype: int64"
      ]
     },
     "execution_count": 49,
     "metadata": {},
     "output_type": "execute_result"
    }
   ],
   "source": [
    "annual_report_info[\"STOCKTRANSIGN\"].value_counts().sort_index()"
   ]
  },
  {
   "cell_type": "code",
   "execution_count": 50,
   "metadata": {},
   "outputs": [
    {
     "data": {
      "text/plain": [
       "1.0     1211\n",
       "2.0     4083\n",
       "3.0    17134\n",
       "Name: PUBSTATE, dtype: int64"
      ]
     },
     "execution_count": 50,
     "metadata": {},
     "output_type": "execute_result"
    }
   ],
   "source": [
    "annual_report_info[\"PUBSTATE\"].value_counts().sort_index()"
   ]
  },
  {
   "cell_type": "code",
   "execution_count": null,
   "metadata": {},
   "outputs": [],
   "source": []
  }
 ],
 "metadata": {
  "kernelspec": {
   "display_name": "Python 3",
   "language": "python",
   "name": "python3"
  },
  "language_info": {
   "codemirror_mode": {
    "name": "ipython",
    "version": 3
   },
   "file_extension": ".py",
   "mimetype": "text/x-python",
   "name": "python",
   "nbconvert_exporter": "python",
   "pygments_lexer": "ipython3",
   "version": "3.7.6"
  }
 },
 "nbformat": 4,
 "nbformat_minor": 4
}
