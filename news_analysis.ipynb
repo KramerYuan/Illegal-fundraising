{
 "cells": [
  {
   "cell_type": "code",
   "execution_count": 1,
   "metadata": {},
   "outputs": [],
   "source": [
    "import pandas as pd"
   ]
  },
  {
   "cell_type": "code",
   "execution_count": 2,
   "metadata": {},
   "outputs": [],
   "source": [
    "# 读取新闻数据\n",
    "news_info = pd.read_csv(\"./train/news_info.csv\")"
   ]
  },
  {
   "cell_type": "code",
   "execution_count": 3,
   "metadata": {},
   "outputs": [],
   "source": [
    "def encode(x):\n",
    "    if x==\"积极\":\n",
    "        return 1\n",
    "    if x==\"中立\":\n",
    "        return 0\n",
    "    else:\n",
    "        return -1\n",
    "    \n",
    "news_info[\"positive_negtive\"] = news_info[\"positive_negtive\"].apply(encode)"
   ]
  },
  {
   "cell_type": "code",
   "execution_count": 4,
   "metadata": {},
   "outputs": [],
   "source": [
    "temp = news_info[[\"id\", \"positive_negtive\"]].groupby(\"id\").sum()\n",
    "\n",
    "temp = temp.rename(columns={\"positive_negtive\":\"news_count\"})"
   ]
  },
  {
   "cell_type": "code",
   "execution_count": 5,
   "metadata": {},
   "outputs": [
    {
     "data": {
      "text/html": [
       "<div>\n",
       "<style scoped>\n",
       "    .dataframe tbody tr th:only-of-type {\n",
       "        vertical-align: middle;\n",
       "    }\n",
       "\n",
       "    .dataframe tbody tr th {\n",
       "        vertical-align: top;\n",
       "    }\n",
       "\n",
       "    .dataframe thead th {\n",
       "        text-align: right;\n",
       "    }\n",
       "</style>\n",
       "<table border=\"1\" class=\"dataframe\">\n",
       "  <thead>\n",
       "    <tr style=\"text-align: right;\">\n",
       "      <th></th>\n",
       "      <th>news_count</th>\n",
       "    </tr>\n",
       "    <tr>\n",
       "      <th>id</th>\n",
       "      <th></th>\n",
       "    </tr>\n",
       "  </thead>\n",
       "  <tbody>\n",
       "    <tr>\n",
       "      <th>09912c34159b1720558a419983a989f1dd2e0ed69a044ca3</th>\n",
       "      <td>0</td>\n",
       "    </tr>\n",
       "    <tr>\n",
       "      <th>175ebe5f059ec050afbd65251ecdd3b512bfbe5e62d041b0</th>\n",
       "      <td>4</td>\n",
       "    </tr>\n",
       "    <tr>\n",
       "      <th>216bd2aaf4d079240c3ac0b76f0ef4aa355d443880ba78db</th>\n",
       "      <td>2</td>\n",
       "    </tr>\n",
       "    <tr>\n",
       "      <th>216bd2aaf4d079240f5823e63d24b44dd2c58e3281b822f6</th>\n",
       "      <td>0</td>\n",
       "    </tr>\n",
       "    <tr>\n",
       "      <th>216bd2aaf4d0792410725ba5e7ca1dc32ce55767372f2030</th>\n",
       "      <td>-1</td>\n",
       "    </tr>\n",
       "    <tr>\n",
       "      <th>...</th>\n",
       "      <td>...</td>\n",
       "    </tr>\n",
       "    <tr>\n",
       "      <th>f000950527a6feb6fddefb42e3c3dc1932fc8c5fae14afbb</th>\n",
       "      <td>0</td>\n",
       "    </tr>\n",
       "    <tr>\n",
       "      <th>f000950527a6feb6fe8f4850e9eb04e8ba3fa3b409725ef3</th>\n",
       "      <td>7</td>\n",
       "    </tr>\n",
       "    <tr>\n",
       "      <th>f000950527a6feb6ff749dc50c7bf46b37b74e36ce38d1a4</th>\n",
       "      <td>-1</td>\n",
       "    </tr>\n",
       "    <tr>\n",
       "      <th>f000950527a6feb6ff7cdb55f5e64a477c499dd75137ae6b</th>\n",
       "      <td>2</td>\n",
       "    </tr>\n",
       "    <tr>\n",
       "      <th>f000950527a6feb6ff839cdf509ebb7631857e6e363fedd6</th>\n",
       "      <td>-1</td>\n",
       "    </tr>\n",
       "  </tbody>\n",
       "</table>\n",
       "<p>927 rows × 1 columns</p>\n",
       "</div>"
      ],
      "text/plain": [
       "                                                  news_count\n",
       "id                                                          \n",
       "09912c34159b1720558a419983a989f1dd2e0ed69a044ca3           0\n",
       "175ebe5f059ec050afbd65251ecdd3b512bfbe5e62d041b0           4\n",
       "216bd2aaf4d079240c3ac0b76f0ef4aa355d443880ba78db           2\n",
       "216bd2aaf4d079240f5823e63d24b44dd2c58e3281b822f6           0\n",
       "216bd2aaf4d0792410725ba5e7ca1dc32ce55767372f2030          -1\n",
       "...                                                      ...\n",
       "f000950527a6feb6fddefb42e3c3dc1932fc8c5fae14afbb           0\n",
       "f000950527a6feb6fe8f4850e9eb04e8ba3fa3b409725ef3           7\n",
       "f000950527a6feb6ff749dc50c7bf46b37b74e36ce38d1a4          -1\n",
       "f000950527a6feb6ff7cdb55f5e64a477c499dd75137ae6b           2\n",
       "f000950527a6feb6ff839cdf509ebb7631857e6e363fedd6          -1\n",
       "\n",
       "[927 rows x 1 columns]"
      ]
     },
     "execution_count": 5,
     "metadata": {},
     "output_type": "execute_result"
    }
   ],
   "source": [
    "temp"
   ]
  },
  {
   "cell_type": "code",
   "execution_count": 6,
   "metadata": {},
   "outputs": [],
   "source": [
    "def news_fea(x):\n",
    "    if x>0:\n",
    "        return 1\n",
    "    elif x<0:\n",
    "        return -1\n",
    "    else:\n",
    "        return 0\n",
    "\n",
    "# 对计数特征进行分箱\n",
    "temp[\"news_count\"] = temp[\"news_count\"].apply(news_fea)"
   ]
  },
  {
   "cell_type": "code",
   "execution_count": 7,
   "metadata": {},
   "outputs": [],
   "source": [
    "# 提取新闻数据id\n",
    "news_fea = news_info.id.drop_duplicates().reset_index(drop=True)"
   ]
  },
  {
   "cell_type": "code",
   "execution_count": 8,
   "metadata": {},
   "outputs": [
    {
     "data": {
      "text/plain": [
       "0      f000950527a6feb62669d6a175fe6fdccd1eb4f7ca8e5016\n",
       "1      f000950527a6feb6e8bd9919e2ca363359bcfa997a0f9de7\n",
       "2      d8071a739aa75a3bcf6fb0041ee883243251d30025ab9d45\n",
       "3      f000950527a6feb6d71de3382afa0bc5ff87bb65477f698a\n",
       "4      f000950527a6feb65929509d9be855bf75b7337d4465843e\n",
       "                             ...                       \n",
       "922    d8071a739aa75a3be6f3e200fd5532cb96764b8f4623c75a\n",
       "923    f000950527a6feb69ea351e48351a711fb09bf1b83f04dfc\n",
       "924    e9f7b28ec10e047005eec1a07b716d63fac8742cbdeacd46\n",
       "925    d8071a739aa75a3b6860158ec0cc8ba7972fb14ba37b9e0a\n",
       "926    f000950527a6feb6de489447885cd6d18f593ec2674174ac\n",
       "Name: id, Length: 927, dtype: object"
      ]
     },
     "execution_count": 8,
     "metadata": {},
     "output_type": "execute_result"
    }
   ],
   "source": [
    "news_fea"
   ]
  },
  {
   "cell_type": "code",
   "execution_count": 9,
   "metadata": {},
   "outputs": [],
   "source": [
    "news_fea = pd.merge(news_fea,temp,how=\"left\",on=\"id\")"
   ]
  },
  {
   "cell_type": "code",
   "execution_count": 10,
   "metadata": {},
   "outputs": [
    {
     "data": {
      "text/html": [
       "<div>\n",
       "<style scoped>\n",
       "    .dataframe tbody tr th:only-of-type {\n",
       "        vertical-align: middle;\n",
       "    }\n",
       "\n",
       "    .dataframe tbody tr th {\n",
       "        vertical-align: top;\n",
       "    }\n",
       "\n",
       "    .dataframe thead th {\n",
       "        text-align: right;\n",
       "    }\n",
       "</style>\n",
       "<table border=\"1\" class=\"dataframe\">\n",
       "  <thead>\n",
       "    <tr style=\"text-align: right;\">\n",
       "      <th></th>\n",
       "      <th>id</th>\n",
       "      <th>news_count</th>\n",
       "    </tr>\n",
       "  </thead>\n",
       "  <tbody>\n",
       "    <tr>\n",
       "      <th>0</th>\n",
       "      <td>f000950527a6feb62669d6a175fe6fdccd1eb4f7ca8e5016</td>\n",
       "      <td>1</td>\n",
       "    </tr>\n",
       "    <tr>\n",
       "      <th>1</th>\n",
       "      <td>f000950527a6feb6e8bd9919e2ca363359bcfa997a0f9de7</td>\n",
       "      <td>-1</td>\n",
       "    </tr>\n",
       "    <tr>\n",
       "      <th>2</th>\n",
       "      <td>d8071a739aa75a3bcf6fb0041ee883243251d30025ab9d45</td>\n",
       "      <td>0</td>\n",
       "    </tr>\n",
       "    <tr>\n",
       "      <th>3</th>\n",
       "      <td>f000950527a6feb6d71de3382afa0bc5ff87bb65477f698a</td>\n",
       "      <td>1</td>\n",
       "    </tr>\n",
       "    <tr>\n",
       "      <th>4</th>\n",
       "      <td>f000950527a6feb65929509d9be855bf75b7337d4465843e</td>\n",
       "      <td>1</td>\n",
       "    </tr>\n",
       "    <tr>\n",
       "      <th>...</th>\n",
       "      <td>...</td>\n",
       "      <td>...</td>\n",
       "    </tr>\n",
       "    <tr>\n",
       "      <th>922</th>\n",
       "      <td>d8071a739aa75a3be6f3e200fd5532cb96764b8f4623c75a</td>\n",
       "      <td>0</td>\n",
       "    </tr>\n",
       "    <tr>\n",
       "      <th>923</th>\n",
       "      <td>f000950527a6feb69ea351e48351a711fb09bf1b83f04dfc</td>\n",
       "      <td>0</td>\n",
       "    </tr>\n",
       "    <tr>\n",
       "      <th>924</th>\n",
       "      <td>e9f7b28ec10e047005eec1a07b716d63fac8742cbdeacd46</td>\n",
       "      <td>0</td>\n",
       "    </tr>\n",
       "    <tr>\n",
       "      <th>925</th>\n",
       "      <td>d8071a739aa75a3b6860158ec0cc8ba7972fb14ba37b9e0a</td>\n",
       "      <td>1</td>\n",
       "    </tr>\n",
       "    <tr>\n",
       "      <th>926</th>\n",
       "      <td>f000950527a6feb6de489447885cd6d18f593ec2674174ac</td>\n",
       "      <td>-1</td>\n",
       "    </tr>\n",
       "  </tbody>\n",
       "</table>\n",
       "<p>927 rows × 2 columns</p>\n",
       "</div>"
      ],
      "text/plain": [
       "                                                   id  news_count\n",
       "0    f000950527a6feb62669d6a175fe6fdccd1eb4f7ca8e5016           1\n",
       "1    f000950527a6feb6e8bd9919e2ca363359bcfa997a0f9de7          -1\n",
       "2    d8071a739aa75a3bcf6fb0041ee883243251d30025ab9d45           0\n",
       "3    f000950527a6feb6d71de3382afa0bc5ff87bb65477f698a           1\n",
       "4    f000950527a6feb65929509d9be855bf75b7337d4465843e           1\n",
       "..                                                ...         ...\n",
       "922  d8071a739aa75a3be6f3e200fd5532cb96764b8f4623c75a           0\n",
       "923  f000950527a6feb69ea351e48351a711fb09bf1b83f04dfc           0\n",
       "924  e9f7b28ec10e047005eec1a07b716d63fac8742cbdeacd46           0\n",
       "925  d8071a739aa75a3b6860158ec0cc8ba7972fb14ba37b9e0a           1\n",
       "926  f000950527a6feb6de489447885cd6d18f593ec2674174ac          -1\n",
       "\n",
       "[927 rows x 2 columns]"
      ]
     },
     "execution_count": 10,
     "metadata": {},
     "output_type": "execute_result"
    }
   ],
   "source": [
    "news_fea"
   ]
  },
  {
   "cell_type": "code",
   "execution_count": null,
   "metadata": {},
   "outputs": [],
   "source": []
  }
 ],
 "metadata": {
  "kernelspec": {
   "display_name": "Python 3",
   "language": "python",
   "name": "python3"
  },
  "language_info": {
   "codemirror_mode": {
    "name": "ipython",
    "version": 3
   },
   "file_extension": ".py",
   "mimetype": "text/x-python",
   "name": "python",
   "nbconvert_exporter": "python",
   "pygments_lexer": "ipython3",
   "version": "3.7.6"
  }
 },
 "nbformat": 4,
 "nbformat_minor": 4
}
